{
  "nbformat": 4,
  "nbformat_minor": 0,
  "metadata": {
    "colab": {
      "name": "DNA sequencing.ipynb",
      "provenance": [],
      "collapsed_sections": []
    },
    "kernelspec": {
      "name": "python3",
      "display_name": "Python 3"
    },
    "language_info": {
      "name": "python"
    }
  },
  "cells": [
    {
      "cell_type": "code",
      "metadata": {
        "colab": {
          "base_uri": "https://localhost:8080/"
        },
        "id": "_8ZhqW-Iv3-o",
        "outputId": "2c4efd9b-5dfc-4c76-a488-61767131d57b"
      },
      "source": [
        "from google.colab import drive\n",
        "drive.mount('/content/drive')"
      ],
      "execution_count": 13,
      "outputs": [
        {
          "output_type": "stream",
          "text": [
            "Drive already mounted at /content/drive; to attempt to forcibly remount, call drive.mount(\"/content/drive\", force_remount=True).\n"
          ],
          "name": "stdout"
        }
      ]
    },
    {
      "cell_type": "code",
      "metadata": {
        "id": "-88d8jIOv_T5"
      },
      "source": [
        "import numpy as np\n",
        "import pandas as pd\n",
        "import matplotlib.pyplot as plt\n",
        "%matplotlib inline"
      ],
      "execution_count": 46,
      "outputs": []
    },
    {
      "cell_type": "code",
      "metadata": {
        "id": "x1VWBGkawTFs"
      },
      "source": [
        "human_data = pd.read_table('/content/drive/MyDrive/Datasets/DNA sequencing/human.txt')\n",
        "chimp_data = pd.read_table('/content/drive/MyDrive/Datasets/DNA sequencing/chimpanzee.txt')\n",
        "dog_data = pd.read_table('/content/drive/MyDrive/Datasets/DNA sequencing/dog.txt')\n"
      ],
      "execution_count": 15,
      "outputs": []
    },
    {
      "cell_type": "code",
      "metadata": {
        "colab": {
          "base_uri": "https://localhost:8080/",
          "height": 195
        },
        "id": "2zZhfdVBwYME",
        "outputId": "2031a5aa-d5bf-43fa-dd4a-a27886539d2c"
      },
      "source": [
        "# human_data.head()\n",
        "chimp_data.head()\n",
        "# dog_data.head()"
      ],
      "execution_count": 16,
      "outputs": [
        {
          "output_type": "execute_result",
          "data": {
            "text/html": [
              "<div>\n",
              "<style scoped>\n",
              "    .dataframe tbody tr th:only-of-type {\n",
              "        vertical-align: middle;\n",
              "    }\n",
              "\n",
              "    .dataframe tbody tr th {\n",
              "        vertical-align: top;\n",
              "    }\n",
              "\n",
              "    .dataframe thead th {\n",
              "        text-align: right;\n",
              "    }\n",
              "</style>\n",
              "<table border=\"1\" class=\"dataframe\">\n",
              "  <thead>\n",
              "    <tr style=\"text-align: right;\">\n",
              "      <th></th>\n",
              "      <th>sequence</th>\n",
              "      <th>class</th>\n",
              "    </tr>\n",
              "  </thead>\n",
              "  <tbody>\n",
              "    <tr>\n",
              "      <th>0</th>\n",
              "      <td>ATGCCCCAACTAAATACCGCCGTATGACCCACCATAATTACCCCCA...</td>\n",
              "      <td>4</td>\n",
              "    </tr>\n",
              "    <tr>\n",
              "      <th>1</th>\n",
              "      <td>ATGAACGAAAATCTATTCGCTTCATTCGCTGCCCCCACAATCCTAG...</td>\n",
              "      <td>4</td>\n",
              "    </tr>\n",
              "    <tr>\n",
              "      <th>2</th>\n",
              "      <td>ATGGCCTCGCGCTGGTGGCGGTGGCGACGCGGCTGCTCCTGGAGGC...</td>\n",
              "      <td>4</td>\n",
              "    </tr>\n",
              "    <tr>\n",
              "      <th>3</th>\n",
              "      <td>ATGGCCTCGCGCTGGTGGCGGTGGCGACGCGGCTGCTCCTGGAGGC...</td>\n",
              "      <td>4</td>\n",
              "    </tr>\n",
              "    <tr>\n",
              "      <th>4</th>\n",
              "      <td>ATGGGCAGCGCCAGCCCGGGTCTGAGCAGCGTGTCCCCCAGCCACC...</td>\n",
              "      <td>6</td>\n",
              "    </tr>\n",
              "  </tbody>\n",
              "</table>\n",
              "</div>"
            ],
            "text/plain": [
              "                                            sequence  class\n",
              "0  ATGCCCCAACTAAATACCGCCGTATGACCCACCATAATTACCCCCA...      4\n",
              "1  ATGAACGAAAATCTATTCGCTTCATTCGCTGCCCCCACAATCCTAG...      4\n",
              "2  ATGGCCTCGCGCTGGTGGCGGTGGCGACGCGGCTGCTCCTGGAGGC...      4\n",
              "3  ATGGCCTCGCGCTGGTGGCGGTGGCGACGCGGCTGCTCCTGGAGGC...      4\n",
              "4  ATGGGCAGCGCCAGCCCGGGTCTGAGCAGCGTGTCCCCCAGCCACC...      6"
            ]
          },
          "metadata": {
            "tags": []
          },
          "execution_count": 16
        }
      ]
    },
    {
      "cell_type": "code",
      "metadata": {
        "colab": {
          "base_uri": "https://localhost:8080/"
        },
        "id": "e5G4G8MNw7V4",
        "outputId": "a25c1bd3-ec56-43de-acd3-49189d8c47e1"
      },
      "source": [
        "# human_data['class'].unique()\n",
        "chimp_data['class'].unique()"
      ],
      "execution_count": 17,
      "outputs": [
        {
          "output_type": "execute_result",
          "data": {
            "text/plain": [
              "array([4, 6, 0, 1, 3, 2, 5])"
            ]
          },
          "metadata": {
            "tags": []
          },
          "execution_count": 17
        }
      ]
    },
    {
      "cell_type": "code",
      "metadata": {
        "colab": {
          "base_uri": "https://localhost:8080/",
          "height": 284
        },
        "id": "h_ysFFy_yAKh",
        "outputId": "fd53a35a-e977-4738-8c14-96585c5eebd0"
      },
      "source": [
        "human_data.groupby('class').count()"
      ],
      "execution_count": 18,
      "outputs": [
        {
          "output_type": "execute_result",
          "data": {
            "text/html": [
              "<div>\n",
              "<style scoped>\n",
              "    .dataframe tbody tr th:only-of-type {\n",
              "        vertical-align: middle;\n",
              "    }\n",
              "\n",
              "    .dataframe tbody tr th {\n",
              "        vertical-align: top;\n",
              "    }\n",
              "\n",
              "    .dataframe thead th {\n",
              "        text-align: right;\n",
              "    }\n",
              "</style>\n",
              "<table border=\"1\" class=\"dataframe\">\n",
              "  <thead>\n",
              "    <tr style=\"text-align: right;\">\n",
              "      <th></th>\n",
              "      <th>sequence</th>\n",
              "    </tr>\n",
              "    <tr>\n",
              "      <th>class</th>\n",
              "      <th></th>\n",
              "    </tr>\n",
              "  </thead>\n",
              "  <tbody>\n",
              "    <tr>\n",
              "      <th>0</th>\n",
              "      <td>531</td>\n",
              "    </tr>\n",
              "    <tr>\n",
              "      <th>1</th>\n",
              "      <td>534</td>\n",
              "    </tr>\n",
              "    <tr>\n",
              "      <th>2</th>\n",
              "      <td>349</td>\n",
              "    </tr>\n",
              "    <tr>\n",
              "      <th>3</th>\n",
              "      <td>672</td>\n",
              "    </tr>\n",
              "    <tr>\n",
              "      <th>4</th>\n",
              "      <td>711</td>\n",
              "    </tr>\n",
              "    <tr>\n",
              "      <th>5</th>\n",
              "      <td>240</td>\n",
              "    </tr>\n",
              "    <tr>\n",
              "      <th>6</th>\n",
              "      <td>1343</td>\n",
              "    </tr>\n",
              "  </tbody>\n",
              "</table>\n",
              "</div>"
            ],
            "text/plain": [
              "       sequence\n",
              "class          \n",
              "0           531\n",
              "1           534\n",
              "2           349\n",
              "3           672\n",
              "4           711\n",
              "5           240\n",
              "6          1343"
            ]
          },
          "metadata": {
            "tags": []
          },
          "execution_count": 18
        }
      ]
    },
    {
      "cell_type": "markdown",
      "metadata": {
        "id": "va_Qa1UE1rL_"
      },
      "source": [
        "Reasonably Balanced Data\n"
      ]
    },
    {
      "cell_type": "markdown",
      "metadata": {
        "id": "v2SnQinOsOZS"
      },
      "source": [
        "**K-Mer Counting**\n",
        " A K-mer is a substring of length K (K > 0), and counting the occurrences of all such substrings is a central step in many analyses of DNA sequence data. Counting K-mers for a DNA sequence means finding frequencies of K-mers for the entire sequence. In bioinformatics, K-mer counting is used for genome and transcriptome assembly, metagenomic sequencing, and error correction of sequence reads. Although simple in principle, K-mer counting is a big data challenge, since a single DNA sample can contain several billion DNA sequences."
      ]
    },
    {
      "cell_type": "markdown",
      "metadata": {
        "id": "2V14Cgmf-Pib"
      },
      "source": [
        "They are used to provide a unifrom size input to our model, converting those words into vectors"
      ]
    },
    {
      "cell_type": "code",
      "metadata": {
        "id": "6oRBH8YS1ecR"
      },
      "source": [
        "def get_k_mer(sequence, size):\n",
        "  return [sequence[x : x+size].lower() for x in range (len(sequence) -size +1)]\n",
        "  "
      ],
      "execution_count": 19,
      "outputs": []
    },
    {
      "cell_type": "code",
      "metadata": {
        "colab": {
          "base_uri": "https://localhost:8080/",
          "height": 343
        },
        "id": "PGZz5qjLbj9I",
        "outputId": "f28a4b9a-6725-4908-8aaf-f115dc1ce74e"
      },
      "source": [
        "human_data['words'] = human_data.apply(lambda x : get_k_mer(x['sequence' ],6), axis =1)\n",
        "human_data.head(10)"
      ],
      "execution_count": 26,
      "outputs": [
        {
          "output_type": "execute_result",
          "data": {
            "text/html": [
              "<div>\n",
              "<style scoped>\n",
              "    .dataframe tbody tr th:only-of-type {\n",
              "        vertical-align: middle;\n",
              "    }\n",
              "\n",
              "    .dataframe tbody tr th {\n",
              "        vertical-align: top;\n",
              "    }\n",
              "\n",
              "    .dataframe thead th {\n",
              "        text-align: right;\n",
              "    }\n",
              "</style>\n",
              "<table border=\"1\" class=\"dataframe\">\n",
              "  <thead>\n",
              "    <tr style=\"text-align: right;\">\n",
              "      <th></th>\n",
              "      <th>sequence</th>\n",
              "      <th>class</th>\n",
              "      <th>words</th>\n",
              "    </tr>\n",
              "  </thead>\n",
              "  <tbody>\n",
              "    <tr>\n",
              "      <th>0</th>\n",
              "      <td>ATGCCCCAACTAAATACTACCGTATGGCCCACCATAATTACCCCCA...</td>\n",
              "      <td>4</td>\n",
              "      <td>[atgccc, tgcccc, gcccca, ccccaa, cccaac, ccaac...</td>\n",
              "    </tr>\n",
              "    <tr>\n",
              "      <th>1</th>\n",
              "      <td>ATGAACGAAAATCTGTTCGCTTCATTCATTGCCCCCACAATCCTAG...</td>\n",
              "      <td>4</td>\n",
              "      <td>[atgaac, tgaacg, gaacga, aacgaa, acgaaa, cgaaa...</td>\n",
              "    </tr>\n",
              "    <tr>\n",
              "      <th>2</th>\n",
              "      <td>ATGTGTGGCATTTGGGCGCTGTTTGGCAGTGATGATTGCCTTTCTG...</td>\n",
              "      <td>3</td>\n",
              "      <td>[atgtgt, tgtgtg, gtgtgg, tgtggc, gtggca, tggca...</td>\n",
              "    </tr>\n",
              "    <tr>\n",
              "      <th>3</th>\n",
              "      <td>ATGTGTGGCATTTGGGCGCTGTTTGGCAGTGATGATTGCCTTTCTG...</td>\n",
              "      <td>3</td>\n",
              "      <td>[atgtgt, tgtgtg, gtgtgg, tgtggc, gtggca, tggca...</td>\n",
              "    </tr>\n",
              "    <tr>\n",
              "      <th>4</th>\n",
              "      <td>ATGCAACAGCATTTTGAATTTGAATACCAGACCAAAGTGGATGGTG...</td>\n",
              "      <td>3</td>\n",
              "      <td>[atgcaa, tgcaac, gcaaca, caacag, aacagc, acagc...</td>\n",
              "    </tr>\n",
              "    <tr>\n",
              "      <th>5</th>\n",
              "      <td>ATGTGTGGCATTTGGGCGCTGTTTGGCAGTGATGATTGCCTTTCTG...</td>\n",
              "      <td>3</td>\n",
              "      <td>[atgtgt, tgtgtg, gtgtgg, tgtggc, gtggca, tggca...</td>\n",
              "    </tr>\n",
              "    <tr>\n",
              "      <th>6</th>\n",
              "      <td>ATGAAGATTGCACACAGAGGTCCAGATGCATTCCGTTTTGAGAATG...</td>\n",
              "      <td>3</td>\n",
              "      <td>[atgaag, tgaaga, gaagat, aagatt, agattg, gattg...</td>\n",
              "    </tr>\n",
              "    <tr>\n",
              "      <th>7</th>\n",
              "      <td>ATGCAACAGCATTTTGAATTTGAATACCAGACCAAAGTGGATGGTG...</td>\n",
              "      <td>3</td>\n",
              "      <td>[atgcaa, tgcaac, gcaaca, caacag, aacagc, acagc...</td>\n",
              "    </tr>\n",
              "    <tr>\n",
              "      <th>8</th>\n",
              "      <td>ATGAAGATTGCACACAGAGGTCCAGATGCATTCCGTTTTGAGAATG...</td>\n",
              "      <td>3</td>\n",
              "      <td>[atgaag, tgaaga, gaagat, aagatt, agattg, gattg...</td>\n",
              "    </tr>\n",
              "    <tr>\n",
              "      <th>9</th>\n",
              "      <td>ATGTGTGGCATTTGGGCGCTGTTTGGCAGTGATGATTGCCTTTCTG...</td>\n",
              "      <td>3</td>\n",
              "      <td>[atgtgt, tgtgtg, gtgtgg, tgtggc, gtggca, tggca...</td>\n",
              "    </tr>\n",
              "  </tbody>\n",
              "</table>\n",
              "</div>"
            ],
            "text/plain": [
              "                                            sequence  ...                                              words\n",
              "0  ATGCCCCAACTAAATACTACCGTATGGCCCACCATAATTACCCCCA...  ...  [atgccc, tgcccc, gcccca, ccccaa, cccaac, ccaac...\n",
              "1  ATGAACGAAAATCTGTTCGCTTCATTCATTGCCCCCACAATCCTAG...  ...  [atgaac, tgaacg, gaacga, aacgaa, acgaaa, cgaaa...\n",
              "2  ATGTGTGGCATTTGGGCGCTGTTTGGCAGTGATGATTGCCTTTCTG...  ...  [atgtgt, tgtgtg, gtgtgg, tgtggc, gtggca, tggca...\n",
              "3  ATGTGTGGCATTTGGGCGCTGTTTGGCAGTGATGATTGCCTTTCTG...  ...  [atgtgt, tgtgtg, gtgtgg, tgtggc, gtggca, tggca...\n",
              "4  ATGCAACAGCATTTTGAATTTGAATACCAGACCAAAGTGGATGGTG...  ...  [atgcaa, tgcaac, gcaaca, caacag, aacagc, acagc...\n",
              "5  ATGTGTGGCATTTGGGCGCTGTTTGGCAGTGATGATTGCCTTTCTG...  ...  [atgtgt, tgtgtg, gtgtgg, tgtggc, gtggca, tggca...\n",
              "6  ATGAAGATTGCACACAGAGGTCCAGATGCATTCCGTTTTGAGAATG...  ...  [atgaag, tgaaga, gaagat, aagatt, agattg, gattg...\n",
              "7  ATGCAACAGCATTTTGAATTTGAATACCAGACCAAAGTGGATGGTG...  ...  [atgcaa, tgcaac, gcaaca, caacag, aacagc, acagc...\n",
              "8  ATGAAGATTGCACACAGAGGTCCAGATGCATTCCGTTTTGAGAATG...  ...  [atgaag, tgaaga, gaagat, aagatt, agattg, gattg...\n",
              "9  ATGTGTGGCATTTGGGCGCTGTTTGGCAGTGATGATTGCCTTTCTG...  ...  [atgtgt, tgtgtg, gtgtgg, tgtggc, gtggca, tggca...\n",
              "\n",
              "[10 rows x 3 columns]"
            ]
          },
          "metadata": {
            "tags": []
          },
          "execution_count": 26
        }
      ]
    },
    {
      "cell_type": "code",
      "metadata": {
        "colab": {
          "base_uri": "https://localhost:8080/",
          "height": 343
        },
        "id": "M8NAfhWUbpZF",
        "outputId": "a0b69609-1752-489b-a367-732d1d06d4f1"
      },
      "source": [
        "chimp_data['words'] = chimp_data.apply(lambda x : get_k_mer(x['sequence' ],6), axis =1)\n",
        "# chimp_data.head(10)\n",
        "dog_data['words'] = dog_data.apply(lambda x : get_k_mer(x['sequence' ],6), axis =1)\n",
        "dog_data.head(10)"
      ],
      "execution_count": 27,
      "outputs": [
        {
          "output_type": "execute_result",
          "data": {
            "text/html": [
              "<div>\n",
              "<style scoped>\n",
              "    .dataframe tbody tr th:only-of-type {\n",
              "        vertical-align: middle;\n",
              "    }\n",
              "\n",
              "    .dataframe tbody tr th {\n",
              "        vertical-align: top;\n",
              "    }\n",
              "\n",
              "    .dataframe thead th {\n",
              "        text-align: right;\n",
              "    }\n",
              "</style>\n",
              "<table border=\"1\" class=\"dataframe\">\n",
              "  <thead>\n",
              "    <tr style=\"text-align: right;\">\n",
              "      <th></th>\n",
              "      <th>sequence</th>\n",
              "      <th>class</th>\n",
              "      <th>words</th>\n",
              "    </tr>\n",
              "  </thead>\n",
              "  <tbody>\n",
              "    <tr>\n",
              "      <th>0</th>\n",
              "      <td>ATGCCACAGCTAGATACATCCACCTGATTTATTATAATCTTTTCAA...</td>\n",
              "      <td>4</td>\n",
              "      <td>[atgcca, tgccac, gccaca, ccacag, cacagc, acagc...</td>\n",
              "    </tr>\n",
              "    <tr>\n",
              "      <th>1</th>\n",
              "      <td>ATGAACGAAAATCTATTCGCTTCTTTCGCTGCCCCCTCAATAATAG...</td>\n",
              "      <td>4</td>\n",
              "      <td>[atgaac, tgaacg, gaacga, aacgaa, acgaaa, cgaaa...</td>\n",
              "    </tr>\n",
              "    <tr>\n",
              "      <th>2</th>\n",
              "      <td>ATGGAAACACCCTTCTACGGCGATGAGGCGCTGAGCGGCCTGGGCG...</td>\n",
              "      <td>6</td>\n",
              "      <td>[atggaa, tggaaa, ggaaac, gaaaca, aaacac, aacac...</td>\n",
              "    </tr>\n",
              "    <tr>\n",
              "      <th>3</th>\n",
              "      <td>ATGTGCACTAAAATGGAACAGCCCTTCTACCACGACGACTCATACG...</td>\n",
              "      <td>6</td>\n",
              "      <td>[atgtgc, tgtgca, gtgcac, tgcact, gcacta, cacta...</td>\n",
              "    </tr>\n",
              "    <tr>\n",
              "      <th>4</th>\n",
              "      <td>ATGAGCCGGCAGCTAAACAGAAGCCAGAACTGCTCCTTCAGTGACG...</td>\n",
              "      <td>0</td>\n",
              "      <td>[atgagc, tgagcc, gagccg, agccgg, gccggc, ccggc...</td>\n",
              "    </tr>\n",
              "    <tr>\n",
              "      <th>5</th>\n",
              "      <td>ATGGAGGAGGGCTCCAGCTCGCCCGTGTCCCCCGTGGACAGCCTGG...</td>\n",
              "      <td>6</td>\n",
              "      <td>[atggag, tggagg, ggagga, gaggag, aggagg, ggagg...</td>\n",
              "    </tr>\n",
              "    <tr>\n",
              "      <th>6</th>\n",
              "      <td>ATGACGTCCACCTGCCCCAATAACACCAGGGAGAGCAACAGCAGCC...</td>\n",
              "      <td>0</td>\n",
              "      <td>[atgacg, tgacgt, gacgtc, acgtcc, cgtcca, gtcca...</td>\n",
              "    </tr>\n",
              "    <tr>\n",
              "      <th>7</th>\n",
              "      <td>ATGGCCAACTCCACAGGGCTGACCACCTCGGAAGTCGTGGGCTCGG...</td>\n",
              "      <td>0</td>\n",
              "      <td>[atggcc, tggcca, ggccaa, gccaac, ccaact, caact...</td>\n",
              "    </tr>\n",
              "    <tr>\n",
              "      <th>8</th>\n",
              "      <td>ATGGCGAACTATAGCCATGCAGCTGACAACATTTTACAAAATCTTT...</td>\n",
              "      <td>0</td>\n",
              "      <td>[atggcg, tggcga, ggcgaa, gcgaac, cgaact, gaact...</td>\n",
              "    </tr>\n",
              "    <tr>\n",
              "      <th>9</th>\n",
              "      <td>ATGACCACTCCTCACAATCAAGCTCAACCTGGCCCTTCCAACAATT...</td>\n",
              "      <td>0</td>\n",
              "      <td>[atgacc, tgacca, gaccac, accact, ccactc, cactc...</td>\n",
              "    </tr>\n",
              "  </tbody>\n",
              "</table>\n",
              "</div>"
            ],
            "text/plain": [
              "                                            sequence  ...                                              words\n",
              "0  ATGCCACAGCTAGATACATCCACCTGATTTATTATAATCTTTTCAA...  ...  [atgcca, tgccac, gccaca, ccacag, cacagc, acagc...\n",
              "1  ATGAACGAAAATCTATTCGCTTCTTTCGCTGCCCCCTCAATAATAG...  ...  [atgaac, tgaacg, gaacga, aacgaa, acgaaa, cgaaa...\n",
              "2  ATGGAAACACCCTTCTACGGCGATGAGGCGCTGAGCGGCCTGGGCG...  ...  [atggaa, tggaaa, ggaaac, gaaaca, aaacac, aacac...\n",
              "3  ATGTGCACTAAAATGGAACAGCCCTTCTACCACGACGACTCATACG...  ...  [atgtgc, tgtgca, gtgcac, tgcact, gcacta, cacta...\n",
              "4  ATGAGCCGGCAGCTAAACAGAAGCCAGAACTGCTCCTTCAGTGACG...  ...  [atgagc, tgagcc, gagccg, agccgg, gccggc, ccggc...\n",
              "5  ATGGAGGAGGGCTCCAGCTCGCCCGTGTCCCCCGTGGACAGCCTGG...  ...  [atggag, tggagg, ggagga, gaggag, aggagg, ggagg...\n",
              "6  ATGACGTCCACCTGCCCCAATAACACCAGGGAGAGCAACAGCAGCC...  ...  [atgacg, tgacgt, gacgtc, acgtcc, cgtcca, gtcca...\n",
              "7  ATGGCCAACTCCACAGGGCTGACCACCTCGGAAGTCGTGGGCTCGG...  ...  [atggcc, tggcca, ggccaa, gccaac, ccaact, caact...\n",
              "8  ATGGCGAACTATAGCCATGCAGCTGACAACATTTTACAAAATCTTT...  ...  [atggcg, tggcga, ggcgaa, gcgaac, cgaact, gaact...\n",
              "9  ATGACCACTCCTCACAATCAAGCTCAACCTGGCCCTTCCAACAATT...  ...  [atgacc, tgacca, gaccac, accact, ccactc, cactc...\n",
              "\n",
              "[10 rows x 3 columns]"
            ]
          },
          "metadata": {
            "tags": []
          },
          "execution_count": 27
        }
      ]
    },
    {
      "cell_type": "code",
      "metadata": {
        "colab": {
          "base_uri": "https://localhost:8080/",
          "height": 195
        },
        "id": "485btH-tdQU4",
        "outputId": "d56f7940-e395-4981-94c3-c862788aaa0e"
      },
      "source": [
        "human_data2 = human_data.drop('sequence', axis =1)\n",
        "human_data2.head()"
      ],
      "execution_count": 29,
      "outputs": [
        {
          "output_type": "execute_result",
          "data": {
            "text/html": [
              "<div>\n",
              "<style scoped>\n",
              "    .dataframe tbody tr th:only-of-type {\n",
              "        vertical-align: middle;\n",
              "    }\n",
              "\n",
              "    .dataframe tbody tr th {\n",
              "        vertical-align: top;\n",
              "    }\n",
              "\n",
              "    .dataframe thead th {\n",
              "        text-align: right;\n",
              "    }\n",
              "</style>\n",
              "<table border=\"1\" class=\"dataframe\">\n",
              "  <thead>\n",
              "    <tr style=\"text-align: right;\">\n",
              "      <th></th>\n",
              "      <th>class</th>\n",
              "      <th>words</th>\n",
              "    </tr>\n",
              "  </thead>\n",
              "  <tbody>\n",
              "    <tr>\n",
              "      <th>0</th>\n",
              "      <td>4</td>\n",
              "      <td>[atgccc, tgcccc, gcccca, ccccaa, cccaac, ccaac...</td>\n",
              "    </tr>\n",
              "    <tr>\n",
              "      <th>1</th>\n",
              "      <td>4</td>\n",
              "      <td>[atgaac, tgaacg, gaacga, aacgaa, acgaaa, cgaaa...</td>\n",
              "    </tr>\n",
              "    <tr>\n",
              "      <th>2</th>\n",
              "      <td>3</td>\n",
              "      <td>[atgtgt, tgtgtg, gtgtgg, tgtggc, gtggca, tggca...</td>\n",
              "    </tr>\n",
              "    <tr>\n",
              "      <th>3</th>\n",
              "      <td>3</td>\n",
              "      <td>[atgtgt, tgtgtg, gtgtgg, tgtggc, gtggca, tggca...</td>\n",
              "    </tr>\n",
              "    <tr>\n",
              "      <th>4</th>\n",
              "      <td>3</td>\n",
              "      <td>[atgcaa, tgcaac, gcaaca, caacag, aacagc, acagc...</td>\n",
              "    </tr>\n",
              "  </tbody>\n",
              "</table>\n",
              "</div>"
            ],
            "text/plain": [
              "   class                                              words\n",
              "0      4  [atgccc, tgcccc, gcccca, ccccaa, cccaac, ccaac...\n",
              "1      4  [atgaac, tgaacg, gaacga, aacgaa, acgaaa, cgaaa...\n",
              "2      3  [atgtgt, tgtgtg, gtgtgg, tgtggc, gtggca, tggca...\n",
              "3      3  [atgtgt, tgtgtg, gtgtgg, tgtggc, gtggca, tggca...\n",
              "4      3  [atgcaa, tgcaac, gcaaca, caacag, aacagc, acagc..."
            ]
          },
          "metadata": {
            "tags": []
          },
          "execution_count": 29
        }
      ]
    },
    {
      "cell_type": "code",
      "metadata": {
        "id": "CesSu7qRdxNF"
      },
      "source": [
        "human_words = list(human_data2.words)\n",
        "human_words"
      ],
      "execution_count": null,
      "outputs": []
    },
    {
      "cell_type": "code",
      "metadata": {
        "colab": {
          "base_uri": "https://localhost:8080/"
        },
        "id": "vcSbj3wTjEbe",
        "outputId": "7ebfa8d4-34d2-450a-fce8-ab4b908138be"
      },
      "source": [
        "len(human_words)"
      ],
      "execution_count": 31,
      "outputs": [
        {
          "output_type": "execute_result",
          "data": {
            "text/plain": [
              "4380"
            ]
          },
          "metadata": {
            "tags": []
          },
          "execution_count": 31
        }
      ]
    },
    {
      "cell_type": "code",
      "metadata": {
        "colab": {
          "base_uri": "https://localhost:8080/",
          "height": 120
        },
        "id": "2nkUO9GbjICW",
        "outputId": "f3fea63e-399c-4046-c7fa-e5bb6fa63528"
      },
      "source": [
        "for item in range(len(human_words)):\n",
        "  human_words[item] = ' '.join(human_words[item])\n",
        "human_words[0]"
      ],
      "execution_count": 33,
      "outputs": [
        {
          "output_type": "execute_result",
          "data": {
            "application/vnd.google.colaboratory.intrinsic+json": {
              "type": "string"
            },
            "text/plain": [
              "'atgccc tgcccc gcccca ccccaa cccaac ccaact caacta aactaa actaaa ctaaat taaata aaatac aatact atacta tactac actacc ctaccg taccgt accgta ccgtat cgtatg gtatgg tatggc atggcc tggccc ggccca gcccac cccacc ccacca caccat accata ccataa cataat ataatt taatta aattac attacc ttaccc tacccc accccc ccccca ccccat cccata ccatac catact atactc tactcc actcct ctcctt tcctta ccttac cttaca ttacac tacact acacta cactat actatt ctattc tattcc attcct ttcctc tcctca cctcat ctcatc tcatca catcac atcacc tcaccc caccca acccaa cccaac ccaact caacta aactaa actaaa ctaaaa taaaaa aaaaat aaaata aaatat aatatt atatta tattaa attaaa ttaaac taaaca aaacac aacaca acacaa cacaaa acaaac caaact aaacta aactac actacc ctacca taccac accacc ccacct caccta acctac cctacc ctacct tacctc acctcc cctccc ctccct tccctc ccctca cctcac ctcacc tcacca caccaa accaaa ccaaag caaagc aaagcc aagccc agccca gcccat cccata ccataa cataaa ataaaa taaaaa aaaaat aaaata aaataa aataaa ataaaa taaaaa aaaaaa aaaaat aaaatt aaatta aattat attata ttataa tataac ataaca taacaa aacaaa acaaac caaacc aaaccc aaccct accctg ccctga cctgag ctgaga tgagaa gagaac agaacc gaacca aaccaa accaaa ccaaaa caaaat aaaatg aaatga aatgaa atgaac tgaacg gaacga aacgaa acgaaa cgaaaa gaaaat aaaatc aaatct aatctg atctgt tctgtt ctgttc tgttcg gttcgc ttcgct tcgctt cgcttc gcttca cttcat ttcatt tcattc cattca attcat ttcatt tcattg cattgc attgcc ttgccc tgcccc gccccc ccccca ccccac cccaca ccacaa cacaat acaatc caatcc aatcct atccta tcctag'"
            ]
          },
          "metadata": {
            "tags": []
          },
          "execution_count": 33
        }
      ]
    },
    {
      "cell_type": "code",
      "metadata": {
        "colab": {
          "base_uri": "https://localhost:8080/"
        },
        "id": "JVAmNp7ojnVG",
        "outputId": "b2547e8d-fc99-4152-94f1-fa177fd5dc3f"
      },
      "source": [
        "human_data2.shape"
      ],
      "execution_count": 34,
      "outputs": [
        {
          "output_type": "execute_result",
          "data": {
            "text/plain": [
              "(4380, 2)"
            ]
          },
          "metadata": {
            "tags": []
          },
          "execution_count": 34
        }
      ]
    },
    {
      "cell_type": "code",
      "metadata": {
        "colab": {
          "base_uri": "https://localhost:8080/"
        },
        "id": "4jgq1clzjzlQ",
        "outputId": "dde526ee-4d8b-4be6-a14c-2ff4c9cf7426"
      },
      "source": [
        "y_data = human_data2.iloc[:,0].values\n",
        "y_data.shape"
      ],
      "execution_count": 40,
      "outputs": [
        {
          "output_type": "execute_result",
          "data": {
            "text/plain": [
              "(4380,)"
            ]
          },
          "metadata": {
            "tags": []
          },
          "execution_count": 40
        }
      ]
    },
    {
      "cell_type": "markdown",
      "metadata": {
        "id": "WDg0J3ejkt1u"
      },
      "source": [
        "Using bad of words using CountVectorizer"
      ]
    },
    {
      "cell_type": "code",
      "metadata": {
        "id": "brUrBYCGkoBI"
      },
      "source": [
        "from sklearn.feature_extraction.text import CountVectorizer\n",
        "cv = CountVectorizer(ngram_range=(4,4))\n",
        "X= cv.fit_transform(human_words)\n"
      ],
      "execution_count": 50,
      "outputs": []
    },
    {
      "cell_type": "code",
      "metadata": {
        "colab": {
          "base_uri": "https://localhost:8080/"
        },
        "id": "hUxp7wGMlDfy",
        "outputId": "60b0ee8b-edea-4e29-daf0-74882a09dfea"
      },
      "source": [
        "print( X.shape)"
      ],
      "execution_count": 51,
      "outputs": [
        {
          "output_type": "stream",
          "text": [
            "(4380, 232414)\n"
          ],
          "name": "stdout"
        }
      ]
    },
    {
      "cell_type": "code",
      "metadata": {
        "colab": {
          "base_uri": "https://localhost:8080/",
          "height": 281
        },
        "id": "2ixgK21hmtXl",
        "outputId": "32f7d3c4-39dd-4629-f1b2-647408d54044"
      },
      "source": [
        "human_data2['class'].value_counts().sort_index().plot.bar()"
      ],
      "execution_count": 65,
      "outputs": [
        {
          "output_type": "execute_result",
          "data": {
            "text/plain": [
              "<matplotlib.axes._subplots.AxesSubplot at 0x7fcdae15f210>"
            ]
          },
          "metadata": {
            "tags": []
          },
          "execution_count": 65
        },
        {
          "output_type": "display_data",
          "data": {
            "image/png": "[encoded data removed]",
            "text/plain": [
              "<Figure size 432x288 with 1 Axes>"
            ]
          },
          "metadata": {
            "tags": [],
            "needs_background": "light"
          }
        }
      ]
    },
    {
      "cell_type": "code",
      "metadata": {
        "id": "8phd3bXrnCHa"
      },
      "source": [
        "from sklearn.model_selection import train_test_split\n",
        "X_train, X_test, Y_train, Y_test = train_test_split(X, y_data, test_size = 0.20, random_state = 42)"
      ],
      "execution_count": 67,
      "outputs": []
    },
    {
      "cell_type": "code",
      "metadata": {
        "colab": {
          "base_uri": "https://localhost:8080/"
        },
        "id": "Iu-Vc1_upbM_",
        "outputId": "962dd099-e204-4c4e-cd46-e5cbaec1c209"
      },
      "source": [
        "print(X_train.shape)\n",
        "print(X_test.shape)"
      ],
      "execution_count": 70,
      "outputs": [
        {
          "output_type": "stream",
          "text": [
            "(3504, 232414)\n",
            "(876, 232414)\n"
          ],
          "name": "stdout"
        }
      ]
    },
    {
      "cell_type": "code",
      "metadata": {
        "colab": {
          "base_uri": "https://localhost:8080/"
        },
        "id": "Ya8FR8DGphwr",
        "outputId": "de575d0d-cc85-4245-d876-9021f0f73b9d"
      },
      "source": [
        "from sklearn.naive_bayes import MultinomialNB\n",
        "classifier = MultinomialNB( alpha = 0.1)\n",
        "classifier.fit( X_train, Y_train)\n"
      ],
      "execution_count": 73,
      "outputs": [
        {
          "output_type": "execute_result",
          "data": {
            "text/plain": [
              "MultinomialNB(alpha=0.1, class_prior=None, fit_prior=True)"
            ]
          },
          "metadata": {
            "tags": []
          },
          "execution_count": 73
        }
      ]
    },
    {
      "cell_type": "code",
      "metadata": {
        "id": "uZimsgB9p3O7"
      },
      "source": [
        "y_pred = classifier.predict(X_test)"
      ],
      "execution_count": 74,
      "outputs": []
    },
    {
      "cell_type": "code",
      "metadata": {
        "colab": {
          "base_uri": "https://localhost:8080/"
        },
        "id": "U1abG1NaqW3L",
        "outputId": "c087d6d3-dafe-4e8e-ed5e-5814ff647dc6"
      },
      "source": [
        "from sklearn.metrics import classification_report\n",
        "print(classification_report(Y_test, y_pred))"
      ],
      "execution_count": 75,
      "outputs": [
        {
          "output_type": "stream",
          "text": [
            "              precision    recall  f1-score   support\n",
            "\n",
            "           0       0.98      0.97      0.98       102\n",
            "           1       1.00      0.98      0.99       106\n",
            "           2       1.00      1.00      1.00        78\n",
            "           3       0.99      0.99      0.99       125\n",
            "           4       0.99      0.96      0.98       149\n",
            "           5       1.00      1.00      1.00        51\n",
            "           6       0.96      0.99      0.98       265\n",
            "\n",
            "    accuracy                           0.98       876\n",
            "   macro avg       0.99      0.99      0.99       876\n",
            "weighted avg       0.98      0.98      0.98       876\n",
            "\n"
          ],
          "name": "stdout"
        }
      ]
    },
    {
      "cell_type": "code",
      "metadata": {
        "colab": {
          "base_uri": "https://localhost:8080/"
        },
        "id": "r0Igockrq3lU",
        "outputId": "855db1e2-3f55-48b4-9970-43401da40dd0"
      },
      "source": [
        "from sklearn.metrics import confusion_matrix\n",
        "confusion_matrix(Y_test, y_pred)"
      ],
      "execution_count": 76,
      "outputs": [
        {
          "output_type": "execute_result",
          "data": {
            "text/plain": [
              "array([[ 99,   0,   0,   0,   1,   0,   2],\n",
              "       [  0, 104,   0,   0,   0,   0,   2],\n",
              "       [  0,   0,  78,   0,   0,   0,   0],\n",
              "       [  0,   0,   0, 124,   0,   0,   1],\n",
              "       [  1,   0,   0,   0, 143,   0,   5],\n",
              "       [  0,   0,   0,   0,   0,  51,   0],\n",
              "       [  1,   0,   0,   1,   0,   0, 263]])"
            ]
          },
          "metadata": {
            "tags": []
          },
          "execution_count": 76
        }
      ]
    },
    {
      "cell_type": "code",
      "metadata": {
        "colab": {
          "base_uri": "https://localhost:8080/"
        },
        "id": "KXVUcnGArJnW",
        "outputId": "25c3d1c9-1820-46b5-b443-3d80b51eaa07"
      },
      "source": [
        "from sklearn.metrics import accuracy_score, f1_score, precision_score\n",
        "print('Accuracy = ', accuracy_score(Y_test, y_pred))\n",
        "print(\"Precision = \",precision_score(Y_test, y_pred, average='weighted'))\n",
        "print('F1 Score =', f1_score(Y_test, y_pred, average='weighted'))"
      ],
      "execution_count": 84,
      "outputs": [
        {
          "output_type": "stream",
          "text": [
            "Accuracy =  0.9840182648401826\n",
            "Precision =  0.984290543482443\n",
            "F1 Score = 0.9840270014702487\n"
          ],
          "name": "stdout"
        }
      ]
    }
  ]
}